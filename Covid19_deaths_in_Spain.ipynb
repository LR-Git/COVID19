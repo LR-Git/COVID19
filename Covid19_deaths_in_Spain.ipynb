{
 "cells": [
  {
   "cell_type": "markdown",
   "metadata": {},
   "source": [
    "<h1> Covid-19 missing data from Spanish reports </h1>"
   ]
  },
  {
   "cell_type": "markdown",
   "metadata": {},
   "source": [
    "During the Covid-19 pandemic, many countries are reporting in different ways the numbers of affected people and deaths they have. This reports are not always made with the same criteria and in some cases this may lead to errors or missing information. The goal of this notebook is to estimate the real number of deaths in Spain between the 01.03.2020 and 30.04.2020 when the Spanish health system was near to collapse with Covid-19 cases.\n",
    "\n",
    "The analysis is based in two data sets:\n",
    "<ul>\n",
    "    <li> OWID - Our World In Data --> https://ourworldindata.org/coronavirus-source-data </li>\n",
    "    <li> MoMo - Spanish system where the daily deaths are recorded  --> https://momo.isciii.es/public/momo/dashboard/momo_dashboard.html#datos </li>\n",
    "</ul>"
   ]
  },
  {
   "cell_type": "code",
   "execution_count": 1,
   "metadata": {},
   "outputs": [
    {
     "name": "stdout",
     "output_type": "stream",
     "text": [
      "Modules imported!\n"
     ]
    }
   ],
   "source": [
    "#Import relevant modules\n",
    "import pandas as pd\n",
    "import numpy as np\n",
    "import seaborn as sns\n",
    "import matplotlib.pyplot as plt\n",
    "\n",
    "print('Modules imported!')"
   ]
  },
  {
   "cell_type": "markdown",
   "metadata": {},
   "source": [
    "The first data source is from the Spanish goverment were the daily deaths are recorded and availible in a CSV file with some other related information."
   ]
  },
  {
   "cell_type": "code",
   "execution_count": 2,
   "metadata": {},
   "outputs": [
    {
     "data": {
      "text/html": [
       "<div>\n",
       "<style scoped>\n",
       "    .dataframe tbody tr th:only-of-type {\n",
       "        vertical-align: middle;\n",
       "    }\n",
       "\n",
       "    .dataframe tbody tr th {\n",
       "        vertical-align: top;\n",
       "    }\n",
       "\n",
       "    .dataframe thead th {\n",
       "        text-align: right;\n",
       "    }\n",
       "</style>\n",
       "<table border=\"1\" class=\"dataframe\">\n",
       "  <thead>\n",
       "    <tr style=\"text-align: right;\">\n",
       "      <th></th>\n",
       "      <th>ambito</th>\n",
       "      <th>cod_ambito</th>\n",
       "      <th>cod_ine_ambito</th>\n",
       "      <th>nombre_ambito</th>\n",
       "      <th>cod_sexo</th>\n",
       "      <th>nombre_sexo</th>\n",
       "      <th>cod_gedad</th>\n",
       "      <th>nombre_gedad</th>\n",
       "      <th>fecha_defuncion</th>\n",
       "      <th>defunciones_observadas</th>\n",
       "      <th>defunciones_observadas_lim_inf</th>\n",
       "      <th>defunciones_observadas_lim_sup</th>\n",
       "      <th>defunciones_esperadas</th>\n",
       "      <th>defunciones_esperadas_q01</th>\n",
       "      <th>defunciones_esperadas_q99</th>\n",
       "    </tr>\n",
       "  </thead>\n",
       "  <tbody>\n",
       "    <tr>\n",
       "      <th>0</th>\n",
       "      <td>nacional</td>\n",
       "      <td>NaN</td>\n",
       "      <td>NaN</td>\n",
       "      <td>NaN</td>\n",
       "      <td>all</td>\n",
       "      <td>todos</td>\n",
       "      <td>all</td>\n",
       "      <td>todos</td>\n",
       "      <td>2018-06-23</td>\n",
       "      <td>1064</td>\n",
       "      <td>1064.0</td>\n",
       "      <td>1064.0</td>\n",
       "      <td>989.25</td>\n",
       "      <td>890.6</td>\n",
       "      <td>1135.75</td>\n",
       "    </tr>\n",
       "    <tr>\n",
       "      <th>1</th>\n",
       "      <td>nacional</td>\n",
       "      <td>NaN</td>\n",
       "      <td>NaN</td>\n",
       "      <td>NaN</td>\n",
       "      <td>all</td>\n",
       "      <td>todos</td>\n",
       "      <td>all</td>\n",
       "      <td>todos</td>\n",
       "      <td>2018-06-24</td>\n",
       "      <td>1064</td>\n",
       "      <td>1064.0</td>\n",
       "      <td>1064.0</td>\n",
       "      <td>989.25</td>\n",
       "      <td>896.1</td>\n",
       "      <td>1135.75</td>\n",
       "    </tr>\n",
       "    <tr>\n",
       "      <th>2</th>\n",
       "      <td>nacional</td>\n",
       "      <td>NaN</td>\n",
       "      <td>NaN</td>\n",
       "      <td>NaN</td>\n",
       "      <td>all</td>\n",
       "      <td>todos</td>\n",
       "      <td>all</td>\n",
       "      <td>todos</td>\n",
       "      <td>2018-06-25</td>\n",
       "      <td>1049</td>\n",
       "      <td>1049.0</td>\n",
       "      <td>1049.0</td>\n",
       "      <td>994.00</td>\n",
       "      <td>896.1</td>\n",
       "      <td>1127.35</td>\n",
       "    </tr>\n",
       "    <tr>\n",
       "      <th>3</th>\n",
       "      <td>nacional</td>\n",
       "      <td>NaN</td>\n",
       "      <td>NaN</td>\n",
       "      <td>NaN</td>\n",
       "      <td>all</td>\n",
       "      <td>todos</td>\n",
       "      <td>all</td>\n",
       "      <td>todos</td>\n",
       "      <td>2018-06-26</td>\n",
       "      <td>1095</td>\n",
       "      <td>1095.0</td>\n",
       "      <td>1095.0</td>\n",
       "      <td>994.00</td>\n",
       "      <td>896.1</td>\n",
       "      <td>1129.00</td>\n",
       "    </tr>\n",
       "    <tr>\n",
       "      <th>4</th>\n",
       "      <td>nacional</td>\n",
       "      <td>NaN</td>\n",
       "      <td>NaN</td>\n",
       "      <td>NaN</td>\n",
       "      <td>all</td>\n",
       "      <td>todos</td>\n",
       "      <td>all</td>\n",
       "      <td>todos</td>\n",
       "      <td>2018-06-27</td>\n",
       "      <td>1076</td>\n",
       "      <td>1076.0</td>\n",
       "      <td>1076.0</td>\n",
       "      <td>1001.50</td>\n",
       "      <td>896.1</td>\n",
       "      <td>1131.70</td>\n",
       "    </tr>\n",
       "  </tbody>\n",
       "</table>\n",
       "</div>"
      ],
      "text/plain": [
       "     ambito cod_ambito  cod_ine_ambito nombre_ambito cod_sexo nombre_sexo  \\\n",
       "0  nacional        NaN             NaN           NaN      all       todos   \n",
       "1  nacional        NaN             NaN           NaN      all       todos   \n",
       "2  nacional        NaN             NaN           NaN      all       todos   \n",
       "3  nacional        NaN             NaN           NaN      all       todos   \n",
       "4  nacional        NaN             NaN           NaN      all       todos   \n",
       "\n",
       "  cod_gedad nombre_gedad fecha_defuncion  defunciones_observadas  \\\n",
       "0       all        todos      2018-06-23                    1064   \n",
       "1       all        todos      2018-06-24                    1064   \n",
       "2       all        todos      2018-06-25                    1049   \n",
       "3       all        todos      2018-06-26                    1095   \n",
       "4       all        todos      2018-06-27                    1076   \n",
       "\n",
       "   defunciones_observadas_lim_inf  defunciones_observadas_lim_sup  \\\n",
       "0                          1064.0                          1064.0   \n",
       "1                          1064.0                          1064.0   \n",
       "2                          1049.0                          1049.0   \n",
       "3                          1095.0                          1095.0   \n",
       "4                          1076.0                          1076.0   \n",
       "\n",
       "   defunciones_esperadas  defunciones_esperadas_q01  defunciones_esperadas_q99  \n",
       "0                 989.25                      890.6                    1135.75  \n",
       "1                 989.25                      896.1                    1135.75  \n",
       "2                 994.00                      896.1                    1127.35  \n",
       "3                 994.00                      896.1                    1129.00  \n",
       "4                1001.50                      896.1                    1131.70  "
      ]
     },
     "execution_count": 2,
     "metadata": {},
     "output_type": "execute_result"
    }
   ],
   "source": [
    "# MoMo -  Import daily mortality in Spain: https://momo.isciii.es/public/momo/dashboard/momo_dashboard.html#datos\n",
    "morpath =\"https://momo.isciii.es/public/momo/data\"\n",
    "df_mor = pd.read_csv(morpath)\n",
    "df_mor.head()"
   ]
  },
  {
   "cell_type": "markdown",
   "metadata": {},
   "source": [
    "The second source is a data set from Our World in Data webpage."
   ]
  },
  {
   "cell_type": "code",
   "execution_count": 3,
   "metadata": {},
   "outputs": [
    {
     "data": {
      "text/html": [
       "<div>\n",
       "<style scoped>\n",
       "    .dataframe tbody tr th:only-of-type {\n",
       "        vertical-align: middle;\n",
       "    }\n",
       "\n",
       "    .dataframe tbody tr th {\n",
       "        vertical-align: top;\n",
       "    }\n",
       "\n",
       "    .dataframe thead th {\n",
       "        text-align: right;\n",
       "    }\n",
       "</style>\n",
       "<table border=\"1\" class=\"dataframe\">\n",
       "  <thead>\n",
       "    <tr style=\"text-align: right;\">\n",
       "      <th></th>\n",
       "      <th>iso_code</th>\n",
       "      <th>continent</th>\n",
       "      <th>location</th>\n",
       "      <th>date</th>\n",
       "      <th>total_cases</th>\n",
       "      <th>new_cases</th>\n",
       "      <th>total_deaths</th>\n",
       "      <th>new_deaths</th>\n",
       "      <th>total_cases_per_million</th>\n",
       "      <th>new_cases_per_million</th>\n",
       "      <th>...</th>\n",
       "      <th>aged_70_older</th>\n",
       "      <th>gdp_per_capita</th>\n",
       "      <th>extreme_poverty</th>\n",
       "      <th>cvd_death_rate</th>\n",
       "      <th>diabetes_prevalence</th>\n",
       "      <th>female_smokers</th>\n",
       "      <th>male_smokers</th>\n",
       "      <th>handwashing_facilities</th>\n",
       "      <th>hospital_beds_per_thousand</th>\n",
       "      <th>life_expectancy</th>\n",
       "    </tr>\n",
       "  </thead>\n",
       "  <tbody>\n",
       "    <tr>\n",
       "      <th>0</th>\n",
       "      <td>AFG</td>\n",
       "      <td>Asia</td>\n",
       "      <td>Afghanistan</td>\n",
       "      <td>2019-12-31</td>\n",
       "      <td>0.0</td>\n",
       "      <td>0.0</td>\n",
       "      <td>0.0</td>\n",
       "      <td>0.0</td>\n",
       "      <td>0.0</td>\n",
       "      <td>0.0</td>\n",
       "      <td>...</td>\n",
       "      <td>1.337</td>\n",
       "      <td>1803.987</td>\n",
       "      <td>NaN</td>\n",
       "      <td>597.029</td>\n",
       "      <td>9.59</td>\n",
       "      <td>NaN</td>\n",
       "      <td>NaN</td>\n",
       "      <td>37.746</td>\n",
       "      <td>0.5</td>\n",
       "      <td>64.83</td>\n",
       "    </tr>\n",
       "    <tr>\n",
       "      <th>1</th>\n",
       "      <td>AFG</td>\n",
       "      <td>Asia</td>\n",
       "      <td>Afghanistan</td>\n",
       "      <td>2020-01-01</td>\n",
       "      <td>0.0</td>\n",
       "      <td>0.0</td>\n",
       "      <td>0.0</td>\n",
       "      <td>0.0</td>\n",
       "      <td>0.0</td>\n",
       "      <td>0.0</td>\n",
       "      <td>...</td>\n",
       "      <td>1.337</td>\n",
       "      <td>1803.987</td>\n",
       "      <td>NaN</td>\n",
       "      <td>597.029</td>\n",
       "      <td>9.59</td>\n",
       "      <td>NaN</td>\n",
       "      <td>NaN</td>\n",
       "      <td>37.746</td>\n",
       "      <td>0.5</td>\n",
       "      <td>64.83</td>\n",
       "    </tr>\n",
       "    <tr>\n",
       "      <th>2</th>\n",
       "      <td>AFG</td>\n",
       "      <td>Asia</td>\n",
       "      <td>Afghanistan</td>\n",
       "      <td>2020-01-02</td>\n",
       "      <td>0.0</td>\n",
       "      <td>0.0</td>\n",
       "      <td>0.0</td>\n",
       "      <td>0.0</td>\n",
       "      <td>0.0</td>\n",
       "      <td>0.0</td>\n",
       "      <td>...</td>\n",
       "      <td>1.337</td>\n",
       "      <td>1803.987</td>\n",
       "      <td>NaN</td>\n",
       "      <td>597.029</td>\n",
       "      <td>9.59</td>\n",
       "      <td>NaN</td>\n",
       "      <td>NaN</td>\n",
       "      <td>37.746</td>\n",
       "      <td>0.5</td>\n",
       "      <td>64.83</td>\n",
       "    </tr>\n",
       "    <tr>\n",
       "      <th>3</th>\n",
       "      <td>AFG</td>\n",
       "      <td>Asia</td>\n",
       "      <td>Afghanistan</td>\n",
       "      <td>2020-01-03</td>\n",
       "      <td>0.0</td>\n",
       "      <td>0.0</td>\n",
       "      <td>0.0</td>\n",
       "      <td>0.0</td>\n",
       "      <td>0.0</td>\n",
       "      <td>0.0</td>\n",
       "      <td>...</td>\n",
       "      <td>1.337</td>\n",
       "      <td>1803.987</td>\n",
       "      <td>NaN</td>\n",
       "      <td>597.029</td>\n",
       "      <td>9.59</td>\n",
       "      <td>NaN</td>\n",
       "      <td>NaN</td>\n",
       "      <td>37.746</td>\n",
       "      <td>0.5</td>\n",
       "      <td>64.83</td>\n",
       "    </tr>\n",
       "    <tr>\n",
       "      <th>4</th>\n",
       "      <td>AFG</td>\n",
       "      <td>Asia</td>\n",
       "      <td>Afghanistan</td>\n",
       "      <td>2020-01-04</td>\n",
       "      <td>0.0</td>\n",
       "      <td>0.0</td>\n",
       "      <td>0.0</td>\n",
       "      <td>0.0</td>\n",
       "      <td>0.0</td>\n",
       "      <td>0.0</td>\n",
       "      <td>...</td>\n",
       "      <td>1.337</td>\n",
       "      <td>1803.987</td>\n",
       "      <td>NaN</td>\n",
       "      <td>597.029</td>\n",
       "      <td>9.59</td>\n",
       "      <td>NaN</td>\n",
       "      <td>NaN</td>\n",
       "      <td>37.746</td>\n",
       "      <td>0.5</td>\n",
       "      <td>64.83</td>\n",
       "    </tr>\n",
       "  </tbody>\n",
       "</table>\n",
       "<p>5 rows × 34 columns</p>\n",
       "</div>"
      ],
      "text/plain": [
       "  iso_code continent     location        date  total_cases  new_cases  \\\n",
       "0      AFG      Asia  Afghanistan  2019-12-31          0.0        0.0   \n",
       "1      AFG      Asia  Afghanistan  2020-01-01          0.0        0.0   \n",
       "2      AFG      Asia  Afghanistan  2020-01-02          0.0        0.0   \n",
       "3      AFG      Asia  Afghanistan  2020-01-03          0.0        0.0   \n",
       "4      AFG      Asia  Afghanistan  2020-01-04          0.0        0.0   \n",
       "\n",
       "   total_deaths  new_deaths  total_cases_per_million  new_cases_per_million  \\\n",
       "0           0.0         0.0                      0.0                    0.0   \n",
       "1           0.0         0.0                      0.0                    0.0   \n",
       "2           0.0         0.0                      0.0                    0.0   \n",
       "3           0.0         0.0                      0.0                    0.0   \n",
       "4           0.0         0.0                      0.0                    0.0   \n",
       "\n",
       "   ...  aged_70_older  gdp_per_capita  extreme_poverty  cvd_death_rate  \\\n",
       "0  ...          1.337        1803.987              NaN         597.029   \n",
       "1  ...          1.337        1803.987              NaN         597.029   \n",
       "2  ...          1.337        1803.987              NaN         597.029   \n",
       "3  ...          1.337        1803.987              NaN         597.029   \n",
       "4  ...          1.337        1803.987              NaN         597.029   \n",
       "\n",
       "   diabetes_prevalence  female_smokers  male_smokers  handwashing_facilities  \\\n",
       "0                 9.59             NaN           NaN                  37.746   \n",
       "1                 9.59             NaN           NaN                  37.746   \n",
       "2                 9.59             NaN           NaN                  37.746   \n",
       "3                 9.59             NaN           NaN                  37.746   \n",
       "4                 9.59             NaN           NaN                  37.746   \n",
       "\n",
       "  hospital_beds_per_thousand  life_expectancy  \n",
       "0                        0.5            64.83  \n",
       "1                        0.5            64.83  \n",
       "2                        0.5            64.83  \n",
       "3                        0.5            64.83  \n",
       "4                        0.5            64.83  \n",
       "\n",
       "[5 rows x 34 columns]"
      ]
     },
     "execution_count": 3,
     "metadata": {},
     "output_type": "execute_result"
    }
   ],
   "source": [
    "# OWID - Our World In Data: https://github.com/owid/owid-datasets/tree/master/datasets  / https://ourworldindata.org/coronavirus-source-data\n",
    "owidpath =\"https://covid.ourworldindata.org/data/owid-covid-data.csv\"\n",
    "df_owid = pd.read_csv(owidpath)\n",
    "df_owid.head()"
   ]
  },
  {
   "cell_type": "markdown",
   "metadata": {},
   "source": [
    "First step is to clean the dataframes by selecting only the information for Spain and between the defined period of time.\n"
   ]
  },
  {
   "cell_type": "code",
   "execution_count": 4,
   "metadata": {},
   "outputs": [
    {
     "name": "stderr",
     "output_type": "stream",
     "text": [
      "C:\\Users\\Luis\\anaconda3\\lib\\site-packages\\ipykernel_launcher.py:20: SettingWithCopyWarning: \n",
      "A value is trying to be set on a copy of a slice from a DataFrame.\n",
      "Try using .loc[row_indexer,col_indexer] = value instead\n",
      "\n",
      "See the caveats in the documentation: https://pandas.pydata.org/pandas-docs/stable/user_guide/indexing.html#returning-a-view-versus-a-copy\n"
     ]
    }
   ],
   "source": [
    "###Data MoMo###\n",
    "#leave only the rows between desired period of time\n",
    "df_mor['fecha_defuncion'] = pd.to_datetime(df_mor['fecha_defuncion'])  \n",
    "mask = (df_mor['fecha_defuncion'] > '2020-03-01') & (df_mor['fecha_defuncion'] <= '2020-04-30')\n",
    "df_covid = df_mor.loc[mask]\n",
    "\n",
    "#Remove rows containing not desired information\n",
    "df_covid = df_covid[~df_covid.ambito.str.contains(\"ccaa\")]\n",
    "df_covid = df_covid[~df_covid.cod_sexo.str.contains(\"1\")]\n",
    "df_covid = df_covid[~df_covid.cod_sexo.str.contains(\"6\")]\n",
    "df_covid = df_covid[~df_covid.cod_gedad.str.contains(\"menos_65\")]\n",
    "df_covid = df_covid[~df_covid.cod_gedad.str.contains(\"65_74\")]\n",
    "df_covid = df_covid[~df_covid.cod_gedad.str.contains(\"mas_74\")]\n",
    "\n",
    "###Data OWID###\n",
    "#select data for Spain\n",
    "df_osp = df_owid.loc[df_owid['location']=='Spain']\n",
    "\n",
    "#leave only rows in the given period of time\n",
    "df_osp['date'] = pd.to_datetime(df_osp['date'])  \n",
    "mask2 = (df_osp['date'] >= '2020-03-01') & (df_osp['date'] <= '2020-04-30')\n",
    "df_osp = df_osp.loc[mask2]\n"
   ]
  },
  {
   "cell_type": "markdown",
   "metadata": {},
   "source": [
    "Data visualization:\n",
    "<ul>\n",
    "    <li> From MoMo compare the number of estimated deaths and the deaths register in that period of time </li>\n",
    "</ul>"
   ]
  },
  {
   "cell_type": "code",
   "execution_count": 5,
   "metadata": {},
   "outputs": [
    {
     "data": {
      "image/png": "[encoded data removed]",
      "text/plain": [
       "<Figure size 432x288 with 1 Axes>"
      ]
     },
     "metadata": {
      "needs_background": "light"
     },
     "output_type": "display_data"
    }
   ],
   "source": [
    "#Recorded vs Estimated deaths in 2020\n",
    "x=df_covid['fecha_defuncion']\n",
    "y=df_covid['defunciones_observadas']\n",
    "z=df_covid['defunciones_esperadas']\n",
    "\n",
    "fig, ax = plt.subplots()\n",
    "ax.bar(x, y, label='Recorded')  # Plot some data on the axes.\n",
    "ax.bar(x, z, label='Estimated')  # Plot more data on the axes...\n",
    "ax.set_xlabel('Date')  # Add an x-label to the axes.\n",
    "ax.set_ylabel('Nr. Deaths')  # Add a y-label to the axes.\n",
    "ax.xaxis_date()     # interpret the x-axis values as dates\n",
    "fig.autofmt_xdate() # make space for and rotate the x-axis tick labels\n",
    "ax.set_title(\"MoMo data 2020\")  # Add a title to the axes.\n",
    "ax.legend()  # Add a legend.\n",
    "plt.show()"
   ]
  },
  {
   "cell_type": "markdown",
   "metadata": {},
   "source": [
    "In order to make sure that the number of estimated deaths is trustworthy, we can create the same graph for the same period but for 2019:"
   ]
  },
  {
   "cell_type": "code",
   "execution_count": 6,
   "metadata": {},
   "outputs": [
    {
     "data": {
      "image/png": "[encoded data removed]",
      "text/plain": [
       "<Figure size 432x288 with 1 Axes>"
      ]
     },
     "metadata": {
      "needs_background": "light"
     },
     "output_type": "display_data"
    }
   ],
   "source": [
    "#Recorded vs Estimated deaths in 2019\n",
    "df_mor['fecha_defuncion'] = pd.to_datetime(df_mor['fecha_defuncion'])  \n",
    "mask = (df_mor['fecha_defuncion'] > '2019-03-01') & (df_mor['fecha_defuncion'] <= '2019-04-30')\n",
    "df_covid2019 = df_mor.loc[mask]\n",
    "df_covid2019 = df_covid2019[~df_covid2019.ambito.str.contains(\"ccaa\")]\n",
    "df_covid2019 = df_covid2019[~df_covid2019.cod_sexo.str.contains(\"1\")]\n",
    "df_covid2019 = df_covid2019[~df_covid2019.cod_sexo.str.contains(\"6\")]\n",
    "df_covid2019 = df_covid2019[~df_covid2019.cod_gedad.str.contains(\"menos_65\")]\n",
    "df_covid2019 = df_covid2019[~df_covid2019.cod_gedad.str.contains(\"65_74\")]\n",
    "df_covid2019 = df_covid2019[~df_covid2019.cod_gedad.str.contains(\"mas_74\")]\n",
    "################################################################################################\n",
    "x=df_covid2019['fecha_defuncion']\n",
    "y=df_covid2019['defunciones_observadas']\n",
    "z=df_covid2019['defunciones_esperadas']\n",
    "\n",
    "fig, ax = plt.subplots()\n",
    "ax.bar(x, y, label='Recorded')  # Plot some data on the axes.\n",
    "ax.bar(x, z, label='Estimated')  # Plot more data on the axes...\n",
    "ax.set_xlabel('Date')  # Add an x-label to the axes.\n",
    "ax.set_ylabel('Nr. Deaths')  # Add a y-label to the axes.\n",
    "ax.xaxis_date()     # interpret the x-axis values as dates\n",
    "fig.autofmt_xdate() # make space for and rotate the x-axis tick labels\n",
    "ax.set_title(\"MoMo data 2019\")  # Add a title to the axes.\n",
    "ax.legend()  # Add a legend.\n",
    "plt.show()"
   ]
  },
  {
   "cell_type": "markdown",
   "metadata": {},
   "source": [
    "For better visualization lets compare the diference between the number of recorded and estimated deaths from 2019 and 2020"
   ]
  },
  {
   "cell_type": "code",
   "execution_count": 7,
   "metadata": {},
   "outputs": [
    {
     "data": {
      "image/png": "[encoded data removed]",
      "text/plain": [
       "<Figure size 432x288 with 2 Axes>"
      ]
     },
     "metadata": {
      "needs_background": "light"
     },
     "output_type": "display_data"
    },
    {
     "name": "stdout",
     "output_type": "stream",
     "text": [
      "The diference between reported and estimated deaths in March and April 2020 = 42940.5\n",
      "The diference between reported and estimated deaths in March and April 2019 = -1074.0\n"
     ]
    }
   ],
   "source": [
    "\n",
    "df_covid['dif_defunciones'] = df_covid.defunciones_observadas - df_covid.defunciones_esperadas\n",
    "df_covid2019['dif_defunciones'] = df_covid2019.defunciones_observadas - df_covid2019.defunciones_esperadas\n",
    "dif2020 = df_covid['dif_defunciones'].sum()\n",
    "dif2019 = df_covid2019['dif_defunciones'].sum()\n",
    "\n",
    "df_covid['dif_defunciones'] = df_covid['dif_defunciones'].clip(lower=0)\n",
    "\n",
    "fig, (ax1, ax2) = plt.subplots(1, 2)\n",
    "ax1.bar(df_covid['fecha_defuncion'], df_covid['dif_defunciones'])  # Plot some data on the axes.\n",
    "ax2.bar(df_covid2019['fecha_defuncion'], df_covid2019['dif_defunciones'])  # Plot more data on the axes...\n",
    "ax1.set_xlabel('Date')  # Add an x-label to the axes.\n",
    "ax1.set_ylabel('Nr. Deaths')  # Add a y-label to the axes.\n",
    "ax1.xaxis_date()     # interpret the x-axis values as dates\n",
    "ax1.set_title(\"MoMo data 2020\")  # Add a title to the axes.\n",
    "\n",
    "ax2.set_xlabel('Date')  # Add an x-label to the axes.\n",
    "ax2.set_ylabel('Nr. Deaths')  # Add a y-label to the axes.\n",
    "ax2.xaxis_date()     # interpret the x-axis values as dates\n",
    "ax2.set_title(\"MoMo data 2019\")  # Add a title to the axes.\n",
    "\n",
    "fig.autofmt_xdate() # make space for and rotate the x-axis tick labels\n",
    "plt.show()\n",
    "\n",
    "print('The diference between reported and estimated deaths in March and April 2020 = {}'.format(dif2020) )\n",
    "print('The diference between reported and estimated deaths in March and April 2019 = {}'.format(dif2019) )"
   ]
  },
  {
   "cell_type": "markdown",
   "metadata": {},
   "source": [
    "We can conclude here that the diference of deaths between recorded and estimated in 2020 are caused by Covid-19. For the data from 2020, please note that the Spanish population was in lockdown an no major accident or event could cause near 43000 deaths ."
   ]
  },
  {
   "cell_type": "markdown",
   "metadata": {},
   "source": [
    "Now lets comare this with the number of deaths reported by the Spanish goverment using the OWID CSV file:"
   ]
  },
  {
   "cell_type": "code",
   "execution_count": 8,
   "metadata": {},
   "outputs": [
    {
     "data": {
      "image/png": "[encoded data removed]",
      "text/plain": [
       "<Figure size 432x288 with 1 Axes>"
      ]
     },
     "metadata": {
      "needs_background": "light"
     },
     "output_type": "display_data"
    }
   ],
   "source": [
    "fig, ax = plt.subplots()\n",
    "ax.bar(df_osp['date'], df_osp.new_deaths)  # Plot some data on the axes.\n",
    "ax.set_xlabel('Date')  # Add an x-label to the axes.\n",
    "ax.set_ylabel('Nr. Deaths')  # Add a y-label to the axes.\n",
    "ax.xaxis_date()     # interpret the x-axis values as dates\n",
    "fig.autofmt_xdate() # make space for and rotate the x-axis tick labels\n",
    "ax.set_title(\"OWID - Our World In Data\")  # Add a title to the axes.\n",
    "plt.show()"
   ]
  },
  {
   "cell_type": "markdown",
   "metadata": {},
   "source": [
    "Now we can compare both data sets MoMo vs OWID"
   ]
  },
  {
   "cell_type": "code",
   "execution_count": 9,
   "metadata": {},
   "outputs": [
    {
     "data": {
      "image/png": "[encoded data removed]",
      "text/plain": [
       "<Figure size 432x288 with 1 Axes>"
      ]
     },
     "metadata": {
      "needs_background": "light"
     },
     "output_type": "display_data"
    }
   ],
   "source": [
    "#MoMo vs OWID\n",
    "df_left =df_covid[['fecha_defuncion','dif_defunciones', 'defunciones_observadas']]\n",
    "df_right = df_osp[['date', 'new_cases', 'new_deaths']] \n",
    "df_merge = df_left.merge(df_right, left_on='fecha_defuncion', right_on='date', how='left')\n",
    "df_merge.drop(['date', 'defunciones_observadas', 'new_cases'], axis =1, inplace=True)\n",
    "df_merge.head()\n",
    "df_merge.shape\n",
    "\n",
    "x=df_merge['fecha_defuncion']\n",
    "y=df_merge['dif_defunciones']\n",
    "z=df_merge['new_deaths']\n",
    "\n",
    "fig, ax = plt.subplots()\n",
    "ax.bar(x, y, label='MoMo')  # Plot some data on the axes.\n",
    "ax.bar(x, z, label='OWID')  # Plot more data on the axes...\n",
    "ax.set_xlabel('Date')  # Add an x-label to the axes.\n",
    "ax.set_ylabel('Nr. Deaths')  # Add a y-label to the axes.\n",
    "ax.xaxis_date()     # interpret the x-axis values as dates\n",
    "fig.autofmt_xdate() # make space for and rotate the x-axis tick labels\n",
    "ax.set_title(\"MoMo vs OWID \")  # Add a title to the axes.\n",
    "ax.legend()  # Add a legend.\n",
    "plt.show()"
   ]
  },
  {
   "cell_type": "markdown",
   "metadata": {},
   "source": [
    "Calculate the diference and totals:"
   ]
  },
  {
   "cell_type": "code",
   "execution_count": 10,
   "metadata": {},
   "outputs": [
    {
     "name": "stdout",
     "output_type": "stream",
     "text": [
      "dif_deaths_momo       43282.0\n",
      "deaths_owid           24543.0\n",
      "no_reported_deaths    18739.0\n",
      "dtype: float64\n"
     ]
    }
   ],
   "source": [
    "df_merge = df_merge.rename(columns={'fecha_defuncion': 'Date', 'dif_defunciones': 'dif_deaths_momo' , 'new_deaths': 'deaths_owid'})\n",
    "# Calculate totals\n",
    "df_merge['no_reported_deaths'] = df_merge['dif_deaths_momo'] - df_merge['deaths_owid']\n",
    "total = df_merge.sum()\n",
    "\n",
    "print(total)"
   ]
  },
  {
   "cell_type": "markdown",
   "metadata": {},
   "source": [
    "Print final dataframe with the no reported deaths data in the las column"
   ]
  },
  {
   "cell_type": "code",
   "execution_count": 11,
   "metadata": {},
   "outputs": [
    {
     "name": "stdout",
     "output_type": "stream",
     "text": [
      "         Date  dif_deaths_momo  deaths_owid  no_reported_deaths\n",
      "0  2020-03-02             0.00          0.0                0.00\n",
      "1  2020-03-03             0.00          0.0                0.00\n",
      "2  2020-03-04             0.00          0.0                0.00\n",
      "3  2020-03-05             0.00          1.0               -1.00\n",
      "4  2020-03-06             0.00          2.0               -2.00\n",
      "5  2020-03-07             0.00          2.0               -2.00\n",
      "6  2020-03-08             0.00          0.0                0.00\n",
      "7  2020-03-09             0.00          0.0                0.00\n",
      "8  2020-03-10            29.50         23.0                6.50\n",
      "9  2020-03-11           111.50          7.0              104.50\n",
      "10 2020-03-12           118.00         12.0              106.00\n",
      "11 2020-03-13           222.25         37.0              185.25\n",
      "12 2020-03-14           212.25         37.0              175.25\n",
      "13 2020-03-15           218.00         15.0              203.00\n",
      "14 2020-03-16           247.00        152.0               95.00\n",
      "15 2020-03-17           345.50         21.0              324.50\n",
      "16 2020-03-18           432.50        182.0              250.50\n",
      "17 2020-03-19           539.50        107.0              432.50\n",
      "18 2020-03-20           759.00        169.0              590.00\n",
      "19 2020-03-21           868.00        235.0              633.00\n",
      "20 2020-03-22           901.25        324.0              577.25\n",
      "21 2020-03-23          1179.25        394.0              785.25\n",
      "22 2020-03-24          1413.25        462.0              951.25\n",
      "23 2020-03-25          1529.25        514.0             1015.25\n",
      "24 2020-03-26          1487.75        738.0              749.75\n",
      "25 2020-03-27          1722.50        655.0             1067.50\n",
      "26 2020-03-28          1681.50        769.0              912.50\n",
      "27 2020-03-29          1544.00        832.0              712.00\n",
      "28 2020-03-30          1679.00        838.0              841.00\n",
      "29 2020-03-31          1847.00        812.0             1035.00\n",
      "30 2020-04-01          1775.50        849.0              926.50\n",
      "31 2020-04-02          1643.50        864.0              779.50\n",
      "32 2020-04-03          1635.50        950.0              685.50\n",
      "33 2020-04-04          1377.00        932.0              445.00\n",
      "34 2020-04-05          1432.00        809.0              623.00\n",
      "35 2020-04-06          1362.00        674.0              688.00\n",
      "36 2020-04-07          1442.50        637.0              805.50\n",
      "37 2020-04-08          1322.00        743.0              579.00\n",
      "38 2020-04-09          1141.50        757.0              384.50\n",
      "39 2020-04-10          1095.50        683.0              412.50\n",
      "40 2020-04-11           975.50        605.0              370.50\n",
      "41 2020-04-12           885.50        510.0              375.50\n",
      "42 2020-04-13           851.50        619.0              232.50\n",
      "43 2020-04-14           820.00        517.0              303.00\n",
      "44 2020-04-15           753.00        787.0              -34.00\n",
      "45 2020-04-16           640.50        617.0               23.50\n",
      "46 2020-04-17           691.00        585.0              106.00\n",
      "47 2020-04-18           592.50        565.0               27.50\n",
      "48 2020-04-19           469.00        410.0               59.00\n",
      "49 2020-04-20           438.50        399.0               39.50\n",
      "50 2020-04-21           545.00        430.0              115.00\n",
      "51 2020-04-22           347.00        435.0              -88.00\n",
      "52 2020-04-23           292.00        440.0             -148.00\n",
      "53 2020-04-24           390.00        367.0               23.00\n",
      "54 2020-04-25           291.50        378.0              -86.50\n",
      "55 2020-04-26           180.50        288.0             -107.50\n",
      "56 2020-04-27           219.00          0.0              219.00\n",
      "57 2020-04-28           247.00        632.0             -385.00\n",
      "58 2020-04-29           167.50        453.0             -285.50\n",
      "59 2020-04-30           170.75        268.0              -97.25\n"
     ]
    }
   ],
   "source": [
    "print(df_merge)"
   ]
  },
  {
   "cell_type": "code",
   "execution_count": null,
   "metadata": {},
   "outputs": [],
   "source": []
  }
 ],
 "metadata": {
  "kernelspec": {
   "display_name": "Python 3",
   "language": "python",
   "name": "python3"
  },
  "language_info": {
   "codemirror_mode": {
    "name": "ipython",
    "version": 3
   },
   "file_extension": ".py",
   "mimetype": "text/x-python",
   "name": "python",
   "nbconvert_exporter": "python",
   "pygments_lexer": "ipython3",
   "version": "3.7.6"
  }
 },
 "nbformat": 4,
 "nbformat_minor": 4
}
